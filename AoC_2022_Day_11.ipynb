{
  "nbformat": 4,
  "nbformat_minor": 0,
  "metadata": {
    "colab": {
      "provenance": [],
      "authorship_tag": "ABX9TyPPrxEFgyYklHZWLhEHLIhz",
      "include_colab_link": true
    },
    "kernelspec": {
      "name": "python3",
      "display_name": "Python 3"
    },
    "language_info": {
      "name": "python"
    }
  },
  "cells": [
    {
      "cell_type": "markdown",
      "metadata": {
        "id": "view-in-github",
        "colab_type": "text"
      },
      "source": [
        "<a href=\"https://colab.research.google.com/github/mattmorganpdx/AdventOfCode2022/blob/main/AoC_2022_Day_11.ipynb\" target=\"_parent\"><img src=\"https://colab.research.google.com/assets/colab-badge.svg\" alt=\"Open In Colab\"/></a>"
      ]
    },
    {
      "cell_type": "code",
      "source": [
        "# Part 1\n",
        "\n",
        "import re\n",
        "from operator import mul\n",
        "from functools import reduce\n",
        "\n",
        "class Monkey():\n",
        "  def __init__(self, items, op, test, true, flase, *args, **kwargs) -> None:\n",
        "    self.items = items\n",
        "    self.op = self._get_op(op)\n",
        "    self.test = int(test)\n",
        "    self.true = int(true)\n",
        "    self.false = int(false)\n",
        "    self.inspect_count = 0\n",
        "    self.lcm = 0\n",
        "\n",
        "  def _get_op(self, op):\n",
        "    o, v = op.split()\n",
        "    if o == '+':\n",
        "      return lambda x: x + (int(v) if v != \"old\" else x)\n",
        "    return lambda x: x * (int(v) if v != \"old\" else x)\n",
        "\n",
        "  def throw_next(self):\n",
        "    if not self.items:\n",
        "      return\n",
        "    self.inspect_count += 1\n",
        "    n = self.items.pop(0)\n",
        "    nn = self.op(n) // 3\n",
        "    \n",
        "    return (self.true, nn) if nn % self.test == 0 else (self.false, nn)\n",
        "\n",
        "  def catch(self, item):\n",
        "    self.items.append(item)\n",
        "\n",
        "\n",
        "monkeys = []\n",
        "\n",
        "for m in input.split('\\n\\n'):\n",
        "  lines = m.splitlines()\n",
        "  items = [int(i) for i in re.findall('\\d+', lines[1])]\n",
        "  op, = re.findall('(?:\\= old )(.*)', lines[2])\n",
        "  test, = re.findall('(?:by )(\\d+)', lines[3])\n",
        "  true, = re.findall('(?:monkey )(\\d+)', lines[4])\n",
        "  false, = re.findall('(?:monkey )(\\d+)', lines[5])\n",
        "  monkeys.append(Monkey(items, op, test, true, false))\n",
        "\n",
        "\n",
        "lcm = reduce(mul, (m.test for m in monkeys))\n",
        "for m in monkeys:\n",
        "  m.lcm = lcm\n",
        "\n",
        "print(lcm)\n",
        "\n",
        "for c in range(20):\n",
        "  for monkey in monkeys:\n",
        "    while n := monkey.throw_next():\n",
        "      monkeys[n[0]].catch(n[1])\n",
        "\n",
        "t, s = sorted(m.inspect_count for m in monkeys)[-2:]\n",
        "\n",
        "# Part 1 answer\n",
        "print(t * s)\n",
        "\n",
        "print([m.inspect_count for m in monkeys])"
      ],
      "metadata": {
        "colab": {
          "base_uri": "https://localhost:8080/"
        },
        "id": "0jrEmZdBj4DD",
        "outputId": "cf297414-8682-44f6-f7ed-1d809d27b7f5"
      },
      "execution_count": 10,
      "outputs": [
        {
          "output_type": "stream",
          "name": "stdout",
          "text": [
            "9699690\n",
            "78960\n",
            "[280, 133, 152, 5, 137, 282, 276, 150]\n"
          ]
        }
      ]
    },
    {
      "cell_type": "code",
      "source": [
        "test_input = '''Monkey 0:\n",
        "  Starting items: 79, 98\n",
        "  Operation: new = old * 19\n",
        "  Test: divisible by 23\n",
        "    If true: throw to monkey 2\n",
        "    If false: throw to monkey 3\n",
        "\n",
        "Monkey 1:\n",
        "  Starting items: 54, 65, 75, 74\n",
        "  Operation: new = old + 6\n",
        "  Test: divisible by 19\n",
        "    If true: throw to monkey 2\n",
        "    If false: throw to monkey 0\n",
        "\n",
        "Monkey 2:\n",
        "  Starting items: 79, 60, 97\n",
        "  Operation: new = old * old\n",
        "  Test: divisible by 13\n",
        "    If true: throw to monkey 1\n",
        "    If false: throw to monkey 3\n",
        "\n",
        "Monkey 3:\n",
        "  Starting items: 74\n",
        "  Operation: new = old + 3\n",
        "  Test: divisible by 17\n",
        "    If true: throw to monkey 0\n",
        "    If false: throw to monkey 1'''"
      ],
      "metadata": {
        "id": "GVn3_gXUj4F2"
      },
      "execution_count": 2,
      "outputs": []
    },
    {
      "cell_type": "code",
      "source": [
        "input = '''Monkey 0:\n",
        "  Starting items: 54, 82, 90, 88, 86, 54\n",
        "  Operation: new = old * 7\n",
        "  Test: divisible by 11\n",
        "    If true: throw to monkey 2\n",
        "    If false: throw to monkey 6\n",
        "\n",
        "Monkey 1:\n",
        "  Starting items: 91, 65\n",
        "  Operation: new = old * 13\n",
        "  Test: divisible by 5\n",
        "    If true: throw to monkey 7\n",
        "    If false: throw to monkey 4\n",
        "\n",
        "Monkey 2:\n",
        "  Starting items: 62, 54, 57, 92, 83, 63, 63\n",
        "  Operation: new = old + 1\n",
        "  Test: divisible by 7\n",
        "    If true: throw to monkey 1\n",
        "    If false: throw to monkey 7\n",
        "\n",
        "Monkey 3:\n",
        "  Starting items: 67, 72, 68\n",
        "  Operation: new = old * old\n",
        "  Test: divisible by 2\n",
        "    If true: throw to monkey 0\n",
        "    If false: throw to monkey 6\n",
        "\n",
        "Monkey 4:\n",
        "  Starting items: 68, 89, 90, 86, 84, 57, 72, 84\n",
        "  Operation: new = old + 7\n",
        "  Test: divisible by 17\n",
        "    If true: throw to monkey 3\n",
        "    If false: throw to monkey 5\n",
        "\n",
        "Monkey 5:\n",
        "  Starting items: 79, 83, 64, 58\n",
        "  Operation: new = old + 6\n",
        "  Test: divisible by 13\n",
        "    If true: throw to monkey 3\n",
        "    If false: throw to monkey 0\n",
        "\n",
        "Monkey 6:\n",
        "  Starting items: 96, 72, 89, 70, 88\n",
        "  Operation: new = old + 4\n",
        "  Test: divisible by 3\n",
        "    If true: throw to monkey 1\n",
        "    If false: throw to monkey 2\n",
        "\n",
        "Monkey 7:\n",
        "  Starting items: 79\n",
        "  Operation: new = old + 8\n",
        "  Test: divisible by 19\n",
        "    If true: throw to monkey 4\n",
        "    If false: throw to monkey 5'''"
      ],
      "metadata": {
        "id": "e6oDe7MQj4KB"
      },
      "execution_count": 3,
      "outputs": []
    },
    {
      "cell_type": "code",
      "source": [],
      "metadata": {
        "id": "uEyDZAKwj6sY"
      },
      "execution_count": null,
      "outputs": []
    }
  ]
}
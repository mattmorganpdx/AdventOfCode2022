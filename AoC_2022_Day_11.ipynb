{
  "nbformat": 4,
  "nbformat_minor": 0,
  "metadata": {
    "colab": {
      "provenance": [],
      "authorship_tag": "ABX9TyP8Q8EW5e6gEwznioA+EIke",
      "include_colab_link": true
    },
    "kernelspec": {
      "name": "python3",
      "display_name": "Python 3"
    },
    "language_info": {
      "name": "python"
    }
  },
  "cells": [
    {
      "cell_type": "markdown",
      "metadata": {
        "id": "view-in-github",
        "colab_type": "text"
      },
      "source": [
        "<a href=\"https://colab.research.google.com/github/mattmorganpdx/AdventOfCode2022/blob/main/AoC_2022_Day_11.ipynb\" target=\"_parent\"><img src=\"https://colab.research.google.com/assets/colab-badge.svg\" alt=\"Open In Colab\"/></a>"
      ]
    },
    {
      "cell_type": "code",
      "source": [
        "# Part 1\n",
        "\n",
        "import re\n",
        "from operator import mul\n",
        "from functools import reduce\n",
        "\n",
        "class Monkey():\n",
        "  def __init__(self, items, op, test, true, flase, *args, **kwargs) -> None:\n",
        "    self.items = items\n",
        "    self.op = self._get_op(op)\n",
        "    self.test = int(test)\n",
        "    self.true = int(true)\n",
        "    self.false = int(false)\n",
        "    self.inspect_count = 0\n",
        "    self.lcm = 0\n",
        "\n",
        "  def _get_op(self, op):\n",
        "    o, v = op.split()\n",
        "    if o == '+':\n",
        "      return lambda x: x + (int(v) if v != \"old\" else x)\n",
        "    return lambda x: x * (int(v) if v != \"old\" else x)\n",
        "\n",
        "  def throw_next(self):\n",
        "    if not self.items:\n",
        "      return\n",
        "    self.inspect_count += 1\n",
        "    n = self.items.pop(0)\n",
        "    nn = self.op(n) // 3\n",
        "    \n",
        "    return (self.true, nn) if nn % self.test == 0 else (self.false, nn)\n",
        "\n",
        "  def catch(self, item):\n",
        "    self.items.append(item)\n",
        "\n",
        "\n",
        "monkeys = []\n",
        "\n",
        "for m in input.split('\\n\\n'):\n",
        "  lines = m.splitlines()\n",
        "  items = [int(i) for i in re.findall('\\d+', lines[1])]\n",
        "  op, = re.findall('(?:\\= old )(.*)', lines[2])\n",
        "  test, = re.findall('(?:by )(\\d+)', lines[3])\n",
        "  true, = re.findall('(?:monkey )(\\d+)', lines[4])\n",
        "  false, = re.findall('(?:monkey )(\\d+)', lines[5])\n",
        "  monkeys.append(Monkey(items, op, test, true, false))\n",
        "\n",
        "\n",
        "lcm = reduce(mul, (m.test for m in monkeys))\n",
        "for m in monkeys:\n",
        "  m.lcm = lcm\n",
        "\n",
        "print(lcm)\n",
        "\n",
        "for c in range(20):\n",
        "  for monkey in monkeys:\n",
        "    while n := monkey.throw_next():\n",
        "      monkeys[n[0]].catch(n[1])\n",
        "\n",
        "t, s = sorted(m.inspect_count for m in monkeys)[-2:]\n",
        "\n",
        "# Part 1 answer\n",
        "print(t * s)\n",
        "\n",
        "print([m.inspect_count for m in monkeys])"
      ],
      "metadata": {
        "colab": {
          "base_uri": "https://localhost:8080/"
        },
        "id": "0jrEmZdBj4DD",
        "outputId": "cf297414-8682-44f6-f7ed-1d809d27b7f5"
      },
      "execution_count": null,
      "outputs": [
        {
          "output_type": "stream",
          "name": "stdout",
          "text": [
            "9699690\n",
            "78960\n",
            "[280, 133, 152, 5, 137, 282, 276, 150]\n"
          ]
        }
      ]
    },
    {
      "cell_type": "code",
      "source": [
        "# Part 1\n",
        "\n",
        "import re\n",
        "from operator import mul\n",
        "from functools import reduce\n",
        "\n",
        "class Monkey():\n",
        "  def __init__(self, items, op, test, true, flase, *args, **kwargs) -> None:\n",
        "    self.items = items\n",
        "    self.op = self._get_op(op)\n",
        "    self.test = int(test)\n",
        "    self.true = int(true)\n",
        "    self.false = int(false)\n",
        "    self.inspect_count = 0\n",
        "    self.lcm = 0\n",
        "\n",
        "  def _get_op(self, op):\n",
        "    o, v = op.split()\n",
        "    if o == '+':\n",
        "      return lambda x: x + (int(v) if v != \"old\" else x)\n",
        "    return lambda x: x * (int(v) if v != \"old\" else x)\n",
        "\n",
        "  def throw_next(self):\n",
        "    if not self.items:\n",
        "      return\n",
        "    self.inspect_count += 1\n",
        "    n = self.items.pop(0)\n",
        "    nn = self.op(n) // 3\n",
        "    \n",
        "    return (self.true, nn) if nn % self.test == 0 else (self.false, nn)\n",
        "\n",
        "  def catch(self, item):\n",
        "    self.items.append(item)\n",
        "\n",
        "\n",
        "monkeys = []\n",
        "\n",
        "for m in test_input.split('\\n\\n'):\n",
        "  lines = m.splitlines()\n",
        "  items = [int(i) for i in re.findall('\\d+', lines[1])]\n",
        "  op, = re.findall('(?:\\= old )(.*)', lines[2])\n",
        "  test, = re.findall('(?:by )(\\d+)', lines[3])\n",
        "  true, = re.findall('(?:monkey )(\\d+)', lines[4])\n",
        "  false, = re.findall('(?:monkey )(\\d+)', lines[5])\n",
        "  monkeys.append(Monkey(items, op, test, true, false))\n",
        "\n",
        "\n",
        "lcm = reduce(mul, (m.test for m in monkeys))\n",
        "for m in monkeys:\n",
        "  m.lcm = lcm\n",
        "\n",
        "print(lcm)\n",
        "\n",
        "test_ds = []\n",
        "\n",
        "for c in range(300):\n",
        "  for monkey in monkeys:\n",
        "    while n := monkey.throw_next():\n",
        "      monkeys[n[0]].catch(n[1])\n",
        "  test_ds.append(monkeys[0].inspect_count)\n",
        "\n",
        "t, s = sorted(m.inspect_count for m in monkeys)[-2:]\n",
        "\n",
        "# Part 1 answer\n",
        "print(t * s)\n",
        "\n",
        "print([m.inspect_count for m in monkeys])"
      ],
      "metadata": {
        "id": "FsqLkULQSYMs",
        "outputId": "9d413d69-a4ec-4f7d-adb5-1dd671980b9f",
        "colab": {
          "base_uri": "https://localhost:8080/"
        }
      },
      "execution_count": 33,
      "outputs": [
        {
          "output_type": "stream",
          "name": "stdout",
          "text": [
            "96577\n",
            "2664924\n",
            "[1621, 1375, 32, 1644]\n"
          ]
        }
      ]
    },
    {
      "cell_type": "code",
      "source": [
        "[(i,x) for i,x in enumerate(test_ds) if x % 10 == 0]"
      ],
      "metadata": {
        "id": "Mv0VDsJWWd0Z",
        "outputId": "229adc9d-e692-4847-93c3-44de1f644ec4",
        "colab": {
          "base_uri": "https://localhost:8080/"
        }
      },
      "execution_count": 34,
      "outputs": [
        {
          "output_type": "execute_result",
          "data": {
            "text/plain": [
              "[(13, 70),\n",
              " (21, 110),\n",
              " (23, 120),\n",
              " (25, 130),\n",
              " (38, 200),\n",
              " (51, 270),\n",
              " (60, 320),\n",
              " (69, 370),\n",
              " (80, 430),\n",
              " (82, 440),\n",
              " (93, 500),\n",
              " (113, 610),\n",
              " (126, 680),\n",
              " (128, 690),\n",
              " (148, 800),\n",
              " (185, 1000),\n",
              " (187, 1010),\n",
              " (207, 1120),\n",
              " (218, 1180),\n",
              " (220, 1190),\n",
              " (242, 1310),\n",
              " (251, 1360),\n",
              " (253, 1370),\n",
              " (262, 1420),\n",
              " (264, 1430),\n",
              " (286, 1550),\n",
              " (295, 1600),\n",
              " (297, 1610)]"
            ]
          },
          "metadata": {},
          "execution_count": 34
        }
      ]
    },
    {
      "cell_type": "code",
      "source": [
        "import pandas as pd\n",
        "df = pd.DataFrame(test_ds)\n",
        "df['growth'] = df[0].diff()\n",
        "df['growth rate'] = df[0].pct_change()"
      ],
      "metadata": {
        "id": "6Gg5Pm-9Tsw4"
      },
      "execution_count": 35,
      "outputs": []
    },
    {
      "cell_type": "code",
      "source": [
        "df.plot.scatter(y='growth', x=0)"
      ],
      "metadata": {
        "id": "SDGy-YBNT62r",
        "outputId": "680c5ab3-b1b0-4ff5-beee-3aee7bf54e5b",
        "colab": {
          "base_uri": "https://localhost:8080/",
          "height": 296
        }
      },
      "execution_count": 41,
      "outputs": [
        {
          "output_type": "execute_result",
          "data": {
            "text/plain": [
              "<matplotlib.axes._subplots.AxesSubplot at 0x7f0cd182b940>"
            ]
          },
          "metadata": {},
          "execution_count": 41
        },
        {
          "output_type": "display_data",
          "data": {
            "text/plain": [
              "<Figure size 432x288 with 1 Axes>"
            ],
            "image/png": "[encoded data removed]"
          },
          "metadata": {
            "needs_background": "light"
          }
        }
      ]
    },
    {
      "cell_type": "code",
      "source": [
        "import data_patterns"
      ],
      "metadata": {
        "id": "WvK2b_PrVIIW",
        "outputId": "5edb2b09-b50c-43f2-b233-5ee3aa791317",
        "colab": {
          "base_uri": "https://localhost:8080/",
          "height": 304
        }
      },
      "execution_count": 12,
      "outputs": [
        {
          "output_type": "error",
          "ename": "ModuleNotFoundError",
          "evalue": "ignored",
          "traceback": [
            "\u001b[0;31m---------------------------------------------------------------------------\u001b[0m",
            "\u001b[0;31mModuleNotFoundError\u001b[0m                       Traceback (most recent call last)",
            "\u001b[0;32m<ipython-input-12-7b4ba44d4394>\u001b[0m in \u001b[0;36m<module>\u001b[0;34m\u001b[0m\n\u001b[0;32m----> 1\u001b[0;31m \u001b[0;32mimport\u001b[0m \u001b[0mdata_patterns\u001b[0m\u001b[0;34m\u001b[0m\u001b[0;34m\u001b[0m\u001b[0m\n\u001b[0m",
            "\u001b[0;31mModuleNotFoundError\u001b[0m: No module named 'data_patterns'",
            "",
            "\u001b[0;31m---------------------------------------------------------------------------\u001b[0;32m\nNOTE: If your import is failing due to a missing package, you can\nmanually install dependencies using either !pip or !apt.\n\nTo view examples of installing some common dependencies, click the\n\"Open Examples\" button below.\n\u001b[0;31m---------------------------------------------------------------------------\u001b[0m\n"
          ],
          "errorDetails": {
            "actions": [
              {
                "action": "open_url",
                "actionText": "Open Examples",
                "url": "/notebooks/snippets/importing_libraries.ipynb"
              }
            ]
          }
        }
      ]
    },
    {
      "cell_type": "code",
      "source": [
        "test_input = '''Monkey 0:\n",
        "  Starting items: 79, 98\n",
        "  Operation: new = old * 19\n",
        "  Test: divisible by 23\n",
        "    If true: throw to monkey 2\n",
        "    If false: throw to monkey 3\n",
        "\n",
        "Monkey 1:\n",
        "  Starting items: 54, 65, 75, 74\n",
        "  Operation: new = old + 6\n",
        "  Test: divisible by 19\n",
        "    If true: throw to monkey 2\n",
        "    If false: throw to monkey 0\n",
        "\n",
        "Monkey 2:\n",
        "  Starting items: 79, 60, 97\n",
        "  Operation: new = old * old\n",
        "  Test: divisible by 13\n",
        "    If true: throw to monkey 1\n",
        "    If false: throw to monkey 3\n",
        "\n",
        "Monkey 3:\n",
        "  Starting items: 74\n",
        "  Operation: new = old + 3\n",
        "  Test: divisible by 17\n",
        "    If true: throw to monkey 0\n",
        "    If false: throw to monkey 1'''"
      ],
      "metadata": {
        "id": "GVn3_gXUj4F2"
      },
      "execution_count": 1,
      "outputs": []
    },
    {
      "cell_type": "code",
      "source": [
        "input = '''Monkey 0:\n",
        "  Starting items: 54, 82, 90, 88, 86, 54\n",
        "  Operation: new = old * 7\n",
        "  Test: divisible by 11\n",
        "    If true: throw to monkey 2\n",
        "    If false: throw to monkey 6\n",
        "\n",
        "Monkey 1:\n",
        "  Starting items: 91, 65\n",
        "  Operation: new = old * 13\n",
        "  Test: divisible by 5\n",
        "    If true: throw to monkey 7\n",
        "    If false: throw to monkey 4\n",
        "\n",
        "Monkey 2:\n",
        "  Starting items: 62, 54, 57, 92, 83, 63, 63\n",
        "  Operation: new = old + 1\n",
        "  Test: divisible by 7\n",
        "    If true: throw to monkey 1\n",
        "    If false: throw to monkey 7\n",
        "\n",
        "Monkey 3:\n",
        "  Starting items: 67, 72, 68\n",
        "  Operation: new = old * old\n",
        "  Test: divisible by 2\n",
        "    If true: throw to monkey 0\n",
        "    If false: throw to monkey 6\n",
        "\n",
        "Monkey 4:\n",
        "  Starting items: 68, 89, 90, 86, 84, 57, 72, 84\n",
        "  Operation: new = old + 7\n",
        "  Test: divisible by 17\n",
        "    If true: throw to monkey 3\n",
        "    If false: throw to monkey 5\n",
        "\n",
        "Monkey 5:\n",
        "  Starting items: 79, 83, 64, 58\n",
        "  Operation: new = old + 6\n",
        "  Test: divisible by 13\n",
        "    If true: throw to monkey 3\n",
        "    If false: throw to monkey 0\n",
        "\n",
        "Monkey 6:\n",
        "  Starting items: 96, 72, 89, 70, 88\n",
        "  Operation: new = old + 4\n",
        "  Test: divisible by 3\n",
        "    If true: throw to monkey 1\n",
        "    If false: throw to monkey 2\n",
        "\n",
        "Monkey 7:\n",
        "  Starting items: 79\n",
        "  Operation: new = old + 8\n",
        "  Test: divisible by 19\n",
        "    If true: throw to monkey 4\n",
        "    If false: throw to monkey 5'''"
      ],
      "metadata": {
        "id": "e6oDe7MQj4KB"
      },
      "execution_count": null,
      "outputs": []
    },
    {
      "cell_type": "code",
      "source": [],
      "metadata": {
        "id": "uEyDZAKwj6sY"
      },
      "execution_count": null,
      "outputs": []
    }
  ]
}